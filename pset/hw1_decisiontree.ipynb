{
 "cells": [
  {
   "cell_type": "code",
   "execution_count": 36,
   "metadata": {
    "collapsed": true
   },
   "outputs": [],
   "source": [
    "import ssv\n",
    "import pandas as pd"
   ]
  },
  {
   "cell_type": "code",
   "execution_count": 51,
   "metadata": {
    "collapsed": false
   },
   "outputs": [],
   "source": [
    "def read_ssv(filepath):\n",
    "    raw_dat = ssv.loadf(filepath)[0]\n",
    "    raw_dat_list = raw_dat[0].split('\\n')[:-1] # data store in a list where each element represents a row: str\n",
    "    feat_names = raw_dat_list[1].split(' ') #get feature list\n",
    "    \n",
    "    data = [] #nested array\n",
    "    for i in range(3,len(raw_dat_list)):\n",
    "        data.append(raw_dat_list[i].rstrip().split(' ')) #rstrip remove trailing space from string\n",
    "    \n",
    "    df = pd.DataFrame.from_records(data, columns = feat_names) #convert to dataframe   \n",
    "    for col_name in df.columns: #encode all categorical variables\n",
    "        if(df[col_name].dtype == 'object'):\n",
    "            df[col_name]= df[col_name].astype('category')\n",
    "            df[col_name] = df[col_name].cat.codes\n",
    "    \n",
    "    num_features, num_data = len(feat_names), len(raw_dat_list) - 3\n",
    "    \n",
    "    return df, num_features, num_data"
   ]
  },
  {
   "cell_type": "code",
   "execution_count": 52,
   "metadata": {
    "collapsed": true
   },
   "outputs": [],
   "source": [
    "filepath = 'dt_hw1/noisy10_train.ssv'\n",
    "df_train, num_features, num_data = read_ssv(filepath)"
   ]
  },
  {
   "cell_type": "code",
   "execution_count": 53,
   "metadata": {
    "collapsed": false
   },
   "outputs": [
    {
     "data": {
      "text/html": [
       "<div>\n",
       "<table border=\"1\" class=\"dataframe\">\n",
       "  <thead>\n",
       "    <tr style=\"text-align: right;\">\n",
       "      <th></th>\n",
       "      <th>poisonous</th>\n",
       "      <th>capshape</th>\n",
       "      <th>capsurface</th>\n",
       "      <th>capcolor</th>\n",
       "      <th>bruises?</th>\n",
       "      <th>odor</th>\n",
       "      <th>gillattachment</th>\n",
       "      <th>gillspacing</th>\n",
       "      <th>gillsize</th>\n",
       "      <th>gillcolor</th>\n",
       "      <th>...</th>\n",
       "      <th>stalksurfacebelowring</th>\n",
       "      <th>stalkcolorabovering</th>\n",
       "      <th>stalkcolorbelowring</th>\n",
       "      <th>veiltype</th>\n",
       "      <th>veilcolor</th>\n",
       "      <th>ringnumber</th>\n",
       "      <th>ringtype</th>\n",
       "      <th>sporeprintcolor</th>\n",
       "      <th>population</th>\n",
       "      <th>habitat</th>\n",
       "    </tr>\n",
       "  </thead>\n",
       "  <tbody>\n",
       "    <tr>\n",
       "      <th>0</th>\n",
       "      <td>0</td>\n",
       "      <td>5</td>\n",
       "      <td>0</td>\n",
       "      <td>2</td>\n",
       "      <td>1</td>\n",
       "      <td>5</td>\n",
       "      <td>1</td>\n",
       "      <td>0</td>\n",
       "      <td>0</td>\n",
       "      <td>7</td>\n",
       "      <td>...</td>\n",
       "      <td>2</td>\n",
       "      <td>2</td>\n",
       "      <td>5</td>\n",
       "      <td>0</td>\n",
       "      <td>0</td>\n",
       "      <td>1</td>\n",
       "      <td>3</td>\n",
       "      <td>1</td>\n",
       "      <td>5</td>\n",
       "      <td>0</td>\n",
       "    </tr>\n",
       "    <tr>\n",
       "      <th>1</th>\n",
       "      <td>0</td>\n",
       "      <td>0</td>\n",
       "      <td>3</td>\n",
       "      <td>6</td>\n",
       "      <td>1</td>\n",
       "      <td>0</td>\n",
       "      <td>1</td>\n",
       "      <td>0</td>\n",
       "      <td>0</td>\n",
       "      <td>0</td>\n",
       "      <td>...</td>\n",
       "      <td>2</td>\n",
       "      <td>5</td>\n",
       "      <td>5</td>\n",
       "      <td>0</td>\n",
       "      <td>0</td>\n",
       "      <td>1</td>\n",
       "      <td>3</td>\n",
       "      <td>1</td>\n",
       "      <td>3</td>\n",
       "      <td>3</td>\n",
       "    </tr>\n",
       "    <tr>\n",
       "      <th>2</th>\n",
       "      <td>1</td>\n",
       "      <td>2</td>\n",
       "      <td>3</td>\n",
       "      <td>7</td>\n",
       "      <td>0</td>\n",
       "      <td>2</td>\n",
       "      <td>1</td>\n",
       "      <td>0</td>\n",
       "      <td>0</td>\n",
       "      <td>4</td>\n",
       "      <td>...</td>\n",
       "      <td>1</td>\n",
       "      <td>0</td>\n",
       "      <td>4</td>\n",
       "      <td>0</td>\n",
       "      <td>0</td>\n",
       "      <td>1</td>\n",
       "      <td>1</td>\n",
       "      <td>0</td>\n",
       "      <td>5</td>\n",
       "      <td>1</td>\n",
       "    </tr>\n",
       "    <tr>\n",
       "      <th>3</th>\n",
       "      <td>1</td>\n",
       "      <td>2</td>\n",
       "      <td>2</td>\n",
       "      <td>0</td>\n",
       "      <td>1</td>\n",
       "      <td>2</td>\n",
       "      <td>1</td>\n",
       "      <td>0</td>\n",
       "      <td>0</td>\n",
       "      <td>4</td>\n",
       "      <td>...</td>\n",
       "      <td>2</td>\n",
       "      <td>5</td>\n",
       "      <td>5</td>\n",
       "      <td>0</td>\n",
       "      <td>0</td>\n",
       "      <td>1</td>\n",
       "      <td>3</td>\n",
       "      <td>0</td>\n",
       "      <td>4</td>\n",
       "      <td>1</td>\n",
       "    </tr>\n",
       "    <tr>\n",
       "      <th>4</th>\n",
       "      <td>0</td>\n",
       "      <td>2</td>\n",
       "      <td>3</td>\n",
       "      <td>2</td>\n",
       "      <td>1</td>\n",
       "      <td>5</td>\n",
       "      <td>1</td>\n",
       "      <td>0</td>\n",
       "      <td>0</td>\n",
       "      <td>6</td>\n",
       "      <td>...</td>\n",
       "      <td>2</td>\n",
       "      <td>4</td>\n",
       "      <td>5</td>\n",
       "      <td>0</td>\n",
       "      <td>0</td>\n",
       "      <td>1</td>\n",
       "      <td>3</td>\n",
       "      <td>1</td>\n",
       "      <td>4</td>\n",
       "      <td>0</td>\n",
       "    </tr>\n",
       "  </tbody>\n",
       "</table>\n",
       "<p>5 rows × 23 columns</p>\n",
       "</div>"
      ],
      "text/plain": [
       "   poisonous  capshape  capsurface  capcolor  bruises?  odor  gillattachment  \\\n",
       "0          0         5           0         2         1     5               1   \n",
       "1          0         0           3         6         1     0               1   \n",
       "2          1         2           3         7         0     2               1   \n",
       "3          1         2           2         0         1     2               1   \n",
       "4          0         2           3         2         1     5               1   \n",
       "\n",
       "   gillspacing  gillsize  gillcolor   ...     stalksurfacebelowring  \\\n",
       "0            0         0          7   ...                         2   \n",
       "1            0         0          0   ...                         2   \n",
       "2            0         0          4   ...                         1   \n",
       "3            0         0          4   ...                         2   \n",
       "4            0         0          6   ...                         2   \n",
       "\n",
       "   stalkcolorabovering  stalkcolorbelowring  veiltype  veilcolor  ringnumber  \\\n",
       "0                    2                    5         0          0           1   \n",
       "1                    5                    5         0          0           1   \n",
       "2                    0                    4         0          0           1   \n",
       "3                    5                    5         0          0           1   \n",
       "4                    4                    5         0          0           1   \n",
       "\n",
       "   ringtype  sporeprintcolor  population  habitat  \n",
       "0         3                1           5        0  \n",
       "1         3                1           3        3  \n",
       "2         1                0           5        1  \n",
       "3         3                0           4        1  \n",
       "4         3                1           4        0  \n",
       "\n",
       "[5 rows x 23 columns]"
      ]
     },
     "execution_count": 53,
     "metadata": {},
     "output_type": "execute_result"
    }
   ],
   "source": [
    "df_train.head()"
   ]
  },
  {
   "cell_type": "code",
   "execution_count": 54,
   "metadata": {
    "collapsed": false
   },
   "outputs": [
    {
     "name": "stdout",
     "output_type": "stream",
     "text": [
      "23 , 2257\n"
     ]
    }
   ],
   "source": [
    "print(num_features, ',', num_data)"
   ]
  },
  {
   "cell_type": "code",
   "execution_count": null,
   "metadata": {
    "collapsed": true
   },
   "outputs": [],
   "source": []
  }
 ],
 "metadata": {
  "kernelspec": {
   "display_name": "Python 3",
   "language": "python",
   "name": "python3"
  },
  "language_info": {
   "codemirror_mode": {
    "name": "ipython",
    "version": 3
   },
   "file_extension": ".py",
   "mimetype": "text/x-python",
   "name": "python",
   "nbconvert_exporter": "python",
   "pygments_lexer": "ipython3",
   "version": "3.4.5"
  }
 },
 "nbformat": 4,
 "nbformat_minor": 2
}
