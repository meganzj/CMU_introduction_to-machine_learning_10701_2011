{
 "cells": [
  {
   "cell_type": "code",
   "execution_count": 36,
   "metadata": {
    "collapsed": true
   },
   "outputs": [],
   "source": [
    "import ssv\n",
    "import pandas as pd"
   ]
  },
  {
   "cell_type": "code",
   "execution_count": 56,
   "metadata": {
    "collapsed": true
   },
   "outputs": [],
   "source": [
    "#####################################################\n",
    "##### process input file in ssv format ##############\n",
    "#####################################################"
   ]
  },
  {
   "cell_type": "code",
   "execution_count": 108,
   "metadata": {
    "collapsed": false
   },
   "outputs": [],
   "source": [
    "def read_ssv(filepath:str):\n",
    "    raw_dat = ssv.loadf(filepath)[0]\n",
    "    raw_dat_list = raw_dat[0].split('\\n')[:-1] # data store in a list where each element represents a row: str\n",
    "    col_names = raw_dat_list[1].split(' ') #get feature list\n",
    "    \n",
    "    data = [] #nested array\n",
    "    for i in range(3,len(raw_dat_list)):\n",
    "        data.append(raw_dat_list[i].rstrip().split(' ')) #rstrip remove trailing space from string\n",
    "    \n",
    "    df = pd.DataFrame.from_records(data, columns = col_names) #convert to dataframe   \n",
    "    for col_name in df.columns: #encode all categorical variables\n",
    "        if(df[col_name].dtype == 'object'):\n",
    "            df[col_name]= df[col_name].astype('category')\n",
    "            df[col_name] = df[col_name].cat.codes\n",
    "    \n",
    "    num_features, num_data = len(col_names), len(raw_dat_list) - 3\n",
    "    \n",
    "    return df, col_names, num_features, num_data"
   ]
  },
  {
   "cell_type": "code",
   "execution_count": 109,
   "metadata": {
    "collapsed": true
   },
   "outputs": [],
   "source": [
    "filepath = 'dt_hw1/noisy10_train.ssv'\n",
    "df_train, col_names, num_features, num_data = read_ssv(filepath)"
   ]
  },
  {
   "cell_type": "code",
   "execution_count": 53,
   "metadata": {
    "collapsed": false
   },
   "outputs": [
    {
     "data": {
      "text/html": [
       "<div>\n",
       "<table border=\"1\" class=\"dataframe\">\n",
       "  <thead>\n",
       "    <tr style=\"text-align: right;\">\n",
       "      <th></th>\n",
       "      <th>poisonous</th>\n",
       "      <th>capshape</th>\n",
       "      <th>capsurface</th>\n",
       "      <th>capcolor</th>\n",
       "      <th>bruises?</th>\n",
       "      <th>odor</th>\n",
       "      <th>gillattachment</th>\n",
       "      <th>gillspacing</th>\n",
       "      <th>gillsize</th>\n",
       "      <th>gillcolor</th>\n",
       "      <th>...</th>\n",
       "      <th>stalksurfacebelowring</th>\n",
       "      <th>stalkcolorabovering</th>\n",
       "      <th>stalkcolorbelowring</th>\n",
       "      <th>veiltype</th>\n",
       "      <th>veilcolor</th>\n",
       "      <th>ringnumber</th>\n",
       "      <th>ringtype</th>\n",
       "      <th>sporeprintcolor</th>\n",
       "      <th>population</th>\n",
       "      <th>habitat</th>\n",
       "    </tr>\n",
       "  </thead>\n",
       "  <tbody>\n",
       "    <tr>\n",
       "      <th>0</th>\n",
       "      <td>0</td>\n",
       "      <td>5</td>\n",
       "      <td>0</td>\n",
       "      <td>2</td>\n",
       "      <td>1</td>\n",
       "      <td>5</td>\n",
       "      <td>1</td>\n",
       "      <td>0</td>\n",
       "      <td>0</td>\n",
       "      <td>7</td>\n",
       "      <td>...</td>\n",
       "      <td>2</td>\n",
       "      <td>2</td>\n",
       "      <td>5</td>\n",
       "      <td>0</td>\n",
       "      <td>0</td>\n",
       "      <td>1</td>\n",
       "      <td>3</td>\n",
       "      <td>1</td>\n",
       "      <td>5</td>\n",
       "      <td>0</td>\n",
       "    </tr>\n",
       "    <tr>\n",
       "      <th>1</th>\n",
       "      <td>0</td>\n",
       "      <td>0</td>\n",
       "      <td>3</td>\n",
       "      <td>6</td>\n",
       "      <td>1</td>\n",
       "      <td>0</td>\n",
       "      <td>1</td>\n",
       "      <td>0</td>\n",
       "      <td>0</td>\n",
       "      <td>0</td>\n",
       "      <td>...</td>\n",
       "      <td>2</td>\n",
       "      <td>5</td>\n",
       "      <td>5</td>\n",
       "      <td>0</td>\n",
       "      <td>0</td>\n",
       "      <td>1</td>\n",
       "      <td>3</td>\n",
       "      <td>1</td>\n",
       "      <td>3</td>\n",
       "      <td>3</td>\n",
       "    </tr>\n",
       "    <tr>\n",
       "      <th>2</th>\n",
       "      <td>1</td>\n",
       "      <td>2</td>\n",
       "      <td>3</td>\n",
       "      <td>7</td>\n",
       "      <td>0</td>\n",
       "      <td>2</td>\n",
       "      <td>1</td>\n",
       "      <td>0</td>\n",
       "      <td>0</td>\n",
       "      <td>4</td>\n",
       "      <td>...</td>\n",
       "      <td>1</td>\n",
       "      <td>0</td>\n",
       "      <td>4</td>\n",
       "      <td>0</td>\n",
       "      <td>0</td>\n",
       "      <td>1</td>\n",
       "      <td>1</td>\n",
       "      <td>0</td>\n",
       "      <td>5</td>\n",
       "      <td>1</td>\n",
       "    </tr>\n",
       "    <tr>\n",
       "      <th>3</th>\n",
       "      <td>1</td>\n",
       "      <td>2</td>\n",
       "      <td>2</td>\n",
       "      <td>0</td>\n",
       "      <td>1</td>\n",
       "      <td>2</td>\n",
       "      <td>1</td>\n",
       "      <td>0</td>\n",
       "      <td>0</td>\n",
       "      <td>4</td>\n",
       "      <td>...</td>\n",
       "      <td>2</td>\n",
       "      <td>5</td>\n",
       "      <td>5</td>\n",
       "      <td>0</td>\n",
       "      <td>0</td>\n",
       "      <td>1</td>\n",
       "      <td>3</td>\n",
       "      <td>0</td>\n",
       "      <td>4</td>\n",
       "      <td>1</td>\n",
       "    </tr>\n",
       "    <tr>\n",
       "      <th>4</th>\n",
       "      <td>0</td>\n",
       "      <td>2</td>\n",
       "      <td>3</td>\n",
       "      <td>2</td>\n",
       "      <td>1</td>\n",
       "      <td>5</td>\n",
       "      <td>1</td>\n",
       "      <td>0</td>\n",
       "      <td>0</td>\n",
       "      <td>6</td>\n",
       "      <td>...</td>\n",
       "      <td>2</td>\n",
       "      <td>4</td>\n",
       "      <td>5</td>\n",
       "      <td>0</td>\n",
       "      <td>0</td>\n",
       "      <td>1</td>\n",
       "      <td>3</td>\n",
       "      <td>1</td>\n",
       "      <td>4</td>\n",
       "      <td>0</td>\n",
       "    </tr>\n",
       "  </tbody>\n",
       "</table>\n",
       "<p>5 rows × 23 columns</p>\n",
       "</div>"
      ],
      "text/plain": [
       "   poisonous  capshape  capsurface  capcolor  bruises?  odor  gillattachment  \\\n",
       "0          0         5           0         2         1     5               1   \n",
       "1          0         0           3         6         1     0               1   \n",
       "2          1         2           3         7         0     2               1   \n",
       "3          1         2           2         0         1     2               1   \n",
       "4          0         2           3         2         1     5               1   \n",
       "\n",
       "   gillspacing  gillsize  gillcolor   ...     stalksurfacebelowring  \\\n",
       "0            0         0          7   ...                         2   \n",
       "1            0         0          0   ...                         2   \n",
       "2            0         0          4   ...                         1   \n",
       "3            0         0          4   ...                         2   \n",
       "4            0         0          6   ...                         2   \n",
       "\n",
       "   stalkcolorabovering  stalkcolorbelowring  veiltype  veilcolor  ringnumber  \\\n",
       "0                    2                    5         0          0           1   \n",
       "1                    5                    5         0          0           1   \n",
       "2                    0                    4         0          0           1   \n",
       "3                    5                    5         0          0           1   \n",
       "4                    4                    5         0          0           1   \n",
       "\n",
       "   ringtype  sporeprintcolor  population  habitat  \n",
       "0         3                1           5        0  \n",
       "1         3                1           3        3  \n",
       "2         1                0           5        1  \n",
       "3         3                0           4        1  \n",
       "4         3                1           4        0  \n",
       "\n",
       "[5 rows x 23 columns]"
      ]
     },
     "execution_count": 53,
     "metadata": {},
     "output_type": "execute_result"
    }
   ],
   "source": [
    "df_train.head()"
   ]
  },
  {
   "cell_type": "code",
   "execution_count": 110,
   "metadata": {
    "collapsed": false
   },
   "outputs": [
    {
     "data": {
      "text/plain": [
       "['poisonous',\n",
       " 'capshape',\n",
       " 'capsurface',\n",
       " 'capcolor',\n",
       " 'bruises?',\n",
       " 'odor',\n",
       " 'gillattachment',\n",
       " 'gillspacing',\n",
       " 'gillsize',\n",
       " 'gillcolor',\n",
       " 'stalkshape',\n",
       " 'stalkroot',\n",
       " 'stalksurfaceabovering',\n",
       " 'stalksurfacebelowring',\n",
       " 'stalkcolorabovering',\n",
       " 'stalkcolorbelowring',\n",
       " 'veiltype',\n",
       " 'veilcolor',\n",
       " 'ringnumber',\n",
       " 'ringtype',\n",
       " 'sporeprintcolor',\n",
       " 'population',\n",
       " 'habitat']"
      ]
     },
     "execution_count": 110,
     "metadata": {},
     "output_type": "execute_result"
    }
   ],
   "source": [
    "col_names"
   ]
  },
  {
   "cell_type": "code",
   "execution_count": 54,
   "metadata": {
    "collapsed": false
   },
   "outputs": [
    {
     "name": "stdout",
     "output_type": "stream",
     "text": [
      "23 , 2257\n"
     ]
    }
   ],
   "source": [
    "print(num_features, ',', num_data)"
   ]
  },
  {
   "cell_type": "code",
   "execution_count": 55,
   "metadata": {
    "collapsed": true
   },
   "outputs": [],
   "source": [
    "#########################################################\n",
    "################## Entropy and info gain ##############################\n",
    "#########################################################"
   ]
  },
  {
   "cell_type": "code",
   "execution_count": 61,
   "metadata": {
    "collapsed": true
   },
   "outputs": [],
   "source": [
    "import math"
   ]
  },
  {
   "cell_type": "code",
   "execution_count": 69,
   "metadata": {
    "collapsed": false
   },
   "outputs": [],
   "source": [
    "def entropy_binary(pos: int, neg: int):\n",
    "    p0,p1 = neg/(pos+neg), pos/(pos+neg)\n",
    "    if p0 == 0:\n",
    "        bit0 = 0\n",
    "    elif p1 == 0: bit1 == 0\n",
    "    else:\n",
    "        bit0, bit1 = math.log2(p0), math.log2(p1)\n",
    "        \n",
    "    return (- p0*bit0 - p1*bit1)\n",
    "    "
   ]
  },
  {
   "cell_type": "code",
   "execution_count": 71,
   "metadata": {
    "collapsed": false
   },
   "outputs": [
    {
     "data": {
      "text/plain": [
       "0.7219280948873623"
      ]
     },
     "execution_count": 71,
     "metadata": {},
     "output_type": "execute_result"
    }
   ],
   "source": [
    "entropy_binary(80,20)"
   ]
  },
  {
   "cell_type": "code",
   "execution_count": null,
   "metadata": {
    "collapsed": true
   },
   "outputs": [],
   "source": [
    "def data_entropy(data):\n",
    "    "
   ]
  },
  {
   "cell_type": "code",
   "execution_count": 83,
   "metadata": {
    "collapsed": false
   },
   "outputs": [
    {
     "data": {
      "text/html": [
       "<div>\n",
       "<table border=\"1\" class=\"dataframe\">\n",
       "  <thead>\n",
       "    <tr style=\"text-align: right;\">\n",
       "      <th></th>\n",
       "      <th>capshape</th>\n",
       "      <th>poisonous</th>\n",
       "      <th>xy_cnt</th>\n",
       "    </tr>\n",
       "  </thead>\n",
       "  <tbody>\n",
       "    <tr>\n",
       "      <th>0</th>\n",
       "      <td>0</td>\n",
       "      <td>0</td>\n",
       "      <td>108</td>\n",
       "    </tr>\n",
       "    <tr>\n",
       "      <th>1</th>\n",
       "      <td>0</td>\n",
       "      <td>1</td>\n",
       "      <td>21</td>\n",
       "    </tr>\n",
       "    <tr>\n",
       "      <th>2</th>\n",
       "      <td>1</td>\n",
       "      <td>1</td>\n",
       "      <td>2</td>\n",
       "    </tr>\n",
       "    <tr>\n",
       "      <th>3</th>\n",
       "      <td>2</td>\n",
       "      <td>0</td>\n",
       "      <td>577</td>\n",
       "    </tr>\n",
       "    <tr>\n",
       "      <th>4</th>\n",
       "      <td>2</td>\n",
       "      <td>1</td>\n",
       "      <td>400</td>\n",
       "    </tr>\n",
       "    <tr>\n",
       "      <th>5</th>\n",
       "      <td>3</td>\n",
       "      <td>0</td>\n",
       "      <td>6</td>\n",
       "    </tr>\n",
       "    <tr>\n",
       "      <th>6</th>\n",
       "      <td>3</td>\n",
       "      <td>1</td>\n",
       "      <td>7</td>\n",
       "    </tr>\n",
       "    <tr>\n",
       "      <th>7</th>\n",
       "      <td>4</td>\n",
       "      <td>0</td>\n",
       "      <td>9</td>\n",
       "    </tr>\n",
       "    <tr>\n",
       "      <th>8</th>\n",
       "      <td>4</td>\n",
       "      <td>1</td>\n",
       "      <td>2</td>\n",
       "    </tr>\n",
       "    <tr>\n",
       "      <th>9</th>\n",
       "      <td>5</td>\n",
       "      <td>0</td>\n",
       "      <td>659</td>\n",
       "    </tr>\n",
       "    <tr>\n",
       "      <th>10</th>\n",
       "      <td>5</td>\n",
       "      <td>1</td>\n",
       "      <td>466</td>\n",
       "    </tr>\n",
       "  </tbody>\n",
       "</table>\n",
       "</div>"
      ],
      "text/plain": [
       "    capshape  poisonous  xy_cnt\n",
       "0          0          0     108\n",
       "1          0          1      21\n",
       "2          1          1       2\n",
       "3          2          0     577\n",
       "4          2          1     400\n",
       "5          3          0       6\n",
       "6          3          1       7\n",
       "7          4          0       9\n",
       "8          4          1       2\n",
       "9          5          0     659\n",
       "10         5          1     466"
      ]
     },
     "execution_count": 83,
     "metadata": {},
     "output_type": "execute_result"
    }
   ],
   "source": [
    "by_xy = df_train.groupby(['capshape','poisonous']).size().reset_index()\n",
    "by_xy.columns = ['capshape','poisonous'] + ['xy_cnt']\n",
    "by_xy"
   ]
  },
  {
   "cell_type": "code",
   "execution_count": 88,
   "metadata": {
    "collapsed": false
   },
   "outputs": [
    {
     "data": {
      "text/html": [
       "<div>\n",
       "<table border=\"1\" class=\"dataframe\">\n",
       "  <thead>\n",
       "    <tr style=\"text-align: right;\">\n",
       "      <th></th>\n",
       "      <th>capshape</th>\n",
       "      <th>x_cnt</th>\n",
       "      <th>x_prob</th>\n",
       "    </tr>\n",
       "  </thead>\n",
       "  <tbody>\n",
       "    <tr>\n",
       "      <th>0</th>\n",
       "      <td>0</td>\n",
       "      <td>129</td>\n",
       "      <td>0.057156</td>\n",
       "    </tr>\n",
       "    <tr>\n",
       "      <th>1</th>\n",
       "      <td>1</td>\n",
       "      <td>2</td>\n",
       "      <td>0.000886</td>\n",
       "    </tr>\n",
       "    <tr>\n",
       "      <th>2</th>\n",
       "      <td>2</td>\n",
       "      <td>977</td>\n",
       "      <td>0.432875</td>\n",
       "    </tr>\n",
       "    <tr>\n",
       "      <th>3</th>\n",
       "      <td>3</td>\n",
       "      <td>13</td>\n",
       "      <td>0.005760</td>\n",
       "    </tr>\n",
       "    <tr>\n",
       "      <th>4</th>\n",
       "      <td>4</td>\n",
       "      <td>11</td>\n",
       "      <td>0.004874</td>\n",
       "    </tr>\n",
       "    <tr>\n",
       "      <th>5</th>\n",
       "      <td>5</td>\n",
       "      <td>1125</td>\n",
       "      <td>0.498449</td>\n",
       "    </tr>\n",
       "  </tbody>\n",
       "</table>\n",
       "</div>"
      ],
      "text/plain": [
       "   capshape  x_cnt    x_prob\n",
       "0         0    129  0.057156\n",
       "1         1      2  0.000886\n",
       "2         2    977  0.432875\n",
       "3         3     13  0.005760\n",
       "4         4     11  0.004874\n",
       "5         5   1125  0.498449"
      ]
     },
     "execution_count": 88,
     "metadata": {},
     "output_type": "execute_result"
    }
   ],
   "source": [
    "by_x = df_train.groupby(['capshape']).size().reset_index()\n",
    "by_x.columns = ['capshape'] + ['x_cnt']\n",
    "row_total = by_x['x_cnt'].sum()\n",
    "by_x['x_prob'] = by_x['x_cnt'] / row_total\n",
    "by_x"
   ]
  },
  {
   "cell_type": "code",
   "execution_count": 98,
   "metadata": {
    "collapsed": false
   },
   "outputs": [
    {
     "data": {
      "text/html": [
       "<div>\n",
       "<table border=\"1\" class=\"dataframe\">\n",
       "  <thead>\n",
       "    <tr style=\"text-align: right;\">\n",
       "      <th></th>\n",
       "      <th>capshape</th>\n",
       "      <th>poisonous</th>\n",
       "      <th>xy_cnt</th>\n",
       "      <th>x_cnt</th>\n",
       "      <th>x_prob</th>\n",
       "      <th>cond_prob</th>\n",
       "      <th>log2_cond_prob</th>\n",
       "      <th>xy_entropy</th>\n",
       "    </tr>\n",
       "  </thead>\n",
       "  <tbody>\n",
       "    <tr>\n",
       "      <th>0</th>\n",
       "      <td>0</td>\n",
       "      <td>0</td>\n",
       "      <td>108</td>\n",
       "      <td>129</td>\n",
       "      <td>0.057156</td>\n",
       "      <td>0.837209</td>\n",
       "      <td>-0.256340</td>\n",
       "      <td>-0.214610</td>\n",
       "    </tr>\n",
       "    <tr>\n",
       "      <th>1</th>\n",
       "      <td>0</td>\n",
       "      <td>1</td>\n",
       "      <td>21</td>\n",
       "      <td>129</td>\n",
       "      <td>0.057156</td>\n",
       "      <td>0.162791</td>\n",
       "      <td>-2.618910</td>\n",
       "      <td>-0.426334</td>\n",
       "    </tr>\n",
       "    <tr>\n",
       "      <th>2</th>\n",
       "      <td>1</td>\n",
       "      <td>1</td>\n",
       "      <td>2</td>\n",
       "      <td>2</td>\n",
       "      <td>0.000886</td>\n",
       "      <td>1.000000</td>\n",
       "      <td>0.000000</td>\n",
       "      <td>0.000000</td>\n",
       "    </tr>\n",
       "    <tr>\n",
       "      <th>3</th>\n",
       "      <td>2</td>\n",
       "      <td>0</td>\n",
       "      <td>577</td>\n",
       "      <td>977</td>\n",
       "      <td>0.432875</td>\n",
       "      <td>0.590583</td>\n",
       "      <td>-0.759787</td>\n",
       "      <td>-0.448718</td>\n",
       "    </tr>\n",
       "    <tr>\n",
       "      <th>4</th>\n",
       "      <td>2</td>\n",
       "      <td>1</td>\n",
       "      <td>400</td>\n",
       "      <td>977</td>\n",
       "      <td>0.432875</td>\n",
       "      <td>0.409417</td>\n",
       "      <td>-1.288359</td>\n",
       "      <td>-0.527475</td>\n",
       "    </tr>\n",
       "    <tr>\n",
       "      <th>5</th>\n",
       "      <td>3</td>\n",
       "      <td>0</td>\n",
       "      <td>6</td>\n",
       "      <td>13</td>\n",
       "      <td>0.005760</td>\n",
       "      <td>0.461538</td>\n",
       "      <td>-1.115477</td>\n",
       "      <td>-0.514836</td>\n",
       "    </tr>\n",
       "    <tr>\n",
       "      <th>6</th>\n",
       "      <td>3</td>\n",
       "      <td>1</td>\n",
       "      <td>7</td>\n",
       "      <td>13</td>\n",
       "      <td>0.005760</td>\n",
       "      <td>0.538462</td>\n",
       "      <td>-0.893085</td>\n",
       "      <td>-0.480892</td>\n",
       "    </tr>\n",
       "    <tr>\n",
       "      <th>7</th>\n",
       "      <td>4</td>\n",
       "      <td>0</td>\n",
       "      <td>9</td>\n",
       "      <td>11</td>\n",
       "      <td>0.004874</td>\n",
       "      <td>0.818182</td>\n",
       "      <td>-0.289507</td>\n",
       "      <td>-0.236869</td>\n",
       "    </tr>\n",
       "    <tr>\n",
       "      <th>8</th>\n",
       "      <td>4</td>\n",
       "      <td>1</td>\n",
       "      <td>2</td>\n",
       "      <td>11</td>\n",
       "      <td>0.004874</td>\n",
       "      <td>0.181818</td>\n",
       "      <td>-2.459432</td>\n",
       "      <td>-0.447169</td>\n",
       "    </tr>\n",
       "    <tr>\n",
       "      <th>9</th>\n",
       "      <td>5</td>\n",
       "      <td>0</td>\n",
       "      <td>659</td>\n",
       "      <td>1125</td>\n",
       "      <td>0.498449</td>\n",
       "      <td>0.585778</td>\n",
       "      <td>-0.771575</td>\n",
       "      <td>-0.451971</td>\n",
       "    </tr>\n",
       "    <tr>\n",
       "      <th>10</th>\n",
       "      <td>5</td>\n",
       "      <td>1</td>\n",
       "      <td>466</td>\n",
       "      <td>1125</td>\n",
       "      <td>0.498449</td>\n",
       "      <td>0.414222</td>\n",
       "      <td>-1.271523</td>\n",
       "      <td>-0.526693</td>\n",
       "    </tr>\n",
       "  </tbody>\n",
       "</table>\n",
       "</div>"
      ],
      "text/plain": [
       "    capshape  poisonous  xy_cnt  x_cnt    x_prob  cond_prob  log2_cond_prob  \\\n",
       "0          0          0     108    129  0.057156   0.837209       -0.256340   \n",
       "1          0          1      21    129  0.057156   0.162791       -2.618910   \n",
       "2          1          1       2      2  0.000886   1.000000        0.000000   \n",
       "3          2          0     577    977  0.432875   0.590583       -0.759787   \n",
       "4          2          1     400    977  0.432875   0.409417       -1.288359   \n",
       "5          3          0       6     13  0.005760   0.461538       -1.115477   \n",
       "6          3          1       7     13  0.005760   0.538462       -0.893085   \n",
       "7          4          0       9     11  0.004874   0.818182       -0.289507   \n",
       "8          4          1       2     11  0.004874   0.181818       -2.459432   \n",
       "9          5          0     659   1125  0.498449   0.585778       -0.771575   \n",
       "10         5          1     466   1125  0.498449   0.414222       -1.271523   \n",
       "\n",
       "    xy_entropy  \n",
       "0    -0.214610  \n",
       "1    -0.426334  \n",
       "2     0.000000  \n",
       "3    -0.448718  \n",
       "4    -0.527475  \n",
       "5    -0.514836  \n",
       "6    -0.480892  \n",
       "7    -0.236869  \n",
       "8    -0.447169  \n",
       "9    -0.451971  \n",
       "10   -0.526693  "
      ]
     },
     "execution_count": 98,
     "metadata": {},
     "output_type": "execute_result"
    }
   ],
   "source": [
    "given_xy = by_xy.merge(by_x, on = 'capshape', how = 'inner')\n",
    "given_xy['cond_prob'] = given_xy['xy_cnt']/given_xy['x_cnt']\n",
    "given_xy['log2_cond_prob'] = given_xy['cond_prob'].apply(lambda x: math.log2(x))\n",
    "given_xy['xy_entropy'] = given_xy['cond_prob'] * given_xy['log2_cond_prob']\n",
    "given_xy"
   ]
  },
  {
   "cell_type": "code",
   "execution_count": 103,
   "metadata": {
    "collapsed": false
   },
   "outputs": [],
   "source": [
    "cond_xy = given_xy[['capshape', 'x_prob', 'xy_entropy']].groupby('capshape').agg({'x_prob': 'mean', 'xy_entropy': 'sum'}).reset_index()"
   ]
  },
  {
   "cell_type": "code",
   "execution_count": 104,
   "metadata": {
    "collapsed": false
   },
   "outputs": [
    {
     "data": {
      "text/plain": [
       "0.95608719964100686"
      ]
     },
     "execution_count": 104,
     "metadata": {},
     "output_type": "execute_result"
    }
   ],
   "source": [
    "cond_xy['cond_xy_entropy'] = - cond_xy['xy_entropy'] * cond_xy['x_prob']\n",
    "cond_xy['cond_xy_entropy'].sum()"
   ]
  },
  {
   "cell_type": "code",
   "execution_count": 106,
   "metadata": {
    "collapsed": true
   },
   "outputs": [],
   "source": [
    "def partial_entropy_discrete(data, colname: str, target: str):\n",
    "    #by_xy calculates the proportion by \"colname\" and \"target\" - both can take multiple discrete values  \n",
    "    xy_cols = [colname, target]\n",
    "    by_xy = df_train.groupby(xy_cols).size().reset_index()\n",
    "    by_xy.columns = xy_cols + ['xy_cnt']\n",
    "    \n",
    "    #by_x calculates the proportion by \"colname\" - one of the features which takes multiple discrete values  \n",
    "    by_x = df_train.groupby(colname).size().reset_index()\n",
    "    by_x.columns = [colname] + ['x_cnt']\n",
    "    row_total = by_x['x_cnt'].sum()\n",
    "    by_x['x_prob'] = by_x['x_cnt'] / row_total\n",
    "    \n",
    "    #data to calculate conditional entropy H(Y|X = v) of Y given X = v (X is known to be equal to value \"v\")\n",
    "    given_xy = by_xy.merge(by_x, on = colname, how = 'inner')\n",
    "    given_xy['cond_prob'] = given_xy['xy_cnt']/given_xy['x_cnt']\n",
    "    given_xy['log2_cond_prob'] = given_xy['cond_prob'].apply(lambda x: math.log2(x))\n",
    "    given_xy['xy_entropy'] = given_xy['cond_prob'] * given_xy['log2_cond_prob']\n",
    "    \n",
    "    #data to calculate conditional entropy H(Y|X) of Y given X (X as a random variable)\n",
    "    cond_xy = given_xy[[colname, 'x_prob', 'xy_entropy']].groupby(colname).agg({'x_prob': 'mean', 'xy_entropy': 'sum'}).reset_index()\n",
    "    cond_xy['cond_xy_entropy'] = - cond_xy['xy_entropy'] * cond_xy['x_prob']\n",
    "    \n",
    "    #condition entropy H(Y|X)\n",
    "    return cond_xy['cond_xy_entropy'].sum()\n",
    "    "
   ]
  },
  {
   "cell_type": "code",
   "execution_count": 111,
   "metadata": {
    "collapsed": true
   },
   "outputs": [],
   "source": [
    "target, feat_col = col_names[0], col_names[1:]"
   ]
  },
  {
   "cell_type": "code",
   "execution_count": 113,
   "metadata": {
    "collapsed": false
   },
   "outputs": [
    {
     "name": "stdout",
     "output_type": "stream",
     "text": [
      "capshape :  0.956087199641\n",
      "capsurface :  0.967782087891\n",
      "capcolor :  0.854093405505\n",
      "bruises? :  0.874673138015\n",
      "odor :  0.488631472725\n",
      "gillattachment :  0.968772898231\n",
      "gillspacing :  0.938432632202\n",
      "gillsize :  0.943901462981\n",
      "gillcolor :  0.844924795238\n",
      "stalkshape :  0.78465828489\n",
      "stalkroot :  0.913883313777\n",
      "stalksurfaceabovering :  0.708375246734\n",
      "stalksurfacebelowring :  0.718999419312\n",
      "stalkcolorabovering :  0.764458148764\n",
      "stalkcolorbelowring :  0.783385736406\n",
      "veiltype :  0.96969294258\n",
      "veilcolor :  0.966742025985\n",
      "ringnumber :  0.963431212008\n",
      "ringtype :  0.694766418217\n",
      "sporeprintcolor :  0.632703550856\n",
      "population :  0.909030733377\n",
      "habitat :  0.913080667614\n"
     ]
    }
   ],
   "source": [
    "for f in feat_col:\n",
    "    print(f, \": \", partial_entropy_discrete(df_train, f, target))"
   ]
  },
  {
   "cell_type": "code",
   "execution_count": 118,
   "metadata": {
    "collapsed": false
   },
   "outputs": [],
   "source": [
    "temp = df_train.groupby(target).size().reset_index()"
   ]
  },
  {
   "cell_type": "code",
   "execution_count": 128,
   "metadata": {
    "collapsed": false
   },
   "outputs": [
    {
     "data": {
      "text/plain": [
       "1359"
      ]
     },
     "execution_count": 128,
     "metadata": {},
     "output_type": "execute_result"
    }
   ],
   "source": [
    "temp.loc[temp['poisonous'] == 0][0].values[0]"
   ]
  },
  {
   "cell_type": "code",
   "execution_count": 129,
   "metadata": {
    "collapsed": false
   },
   "outputs": [
    {
     "data": {
      "text/plain": [
       "898"
      ]
     },
     "execution_count": 129,
     "metadata": {},
     "output_type": "execute_result"
    }
   ],
   "source": [
    "temp.loc[temp['poisonous'] == 1][0].values[0]"
   ]
  },
  {
   "cell_type": "code",
   "execution_count": 202,
   "metadata": {
    "collapsed": false
   },
   "outputs": [],
   "source": [
    "def MaxGainAttribute(data, target: str):\n",
    "\n",
    "    temp = data.groupby(target).size().reset_index()\n",
    "    pos, neg = temp.loc[temp[target] == 1][0].values[0], temp.loc[temp[target] == 0][0].values[0]\n",
    "    \n",
    "    entropy_orig = entropy_binary(pos, neg)\n",
    "    \n",
    "    max_info_gain = 0\n",
    "    best_attr = ''\n",
    "    idx = 0\n",
    "    \n",
    "    col = [l for l in list(data.columns) if l != target]\n",
    "    for i, c in enumerate(col):\n",
    "        info_gain = entropy_orig - partial_entropy_discrete(df_train, c, target)\n",
    "        if info_gain > max_info_gain:\n",
    "            max_info_gain = info_gain\n",
    "            best_attr = c\n",
    "            idx = i\n",
    "    \n",
    "    return best_attr"
   ]
  },
  {
   "cell_type": "code",
   "execution_count": 203,
   "metadata": {
    "collapsed": false
   },
   "outputs": [
    {
     "data": {
      "text/plain": [
       "'odor'"
      ]
     },
     "execution_count": 203,
     "metadata": {},
     "output_type": "execute_result"
    }
   ],
   "source": [
    "MaxGainAttribute(df_train, target)"
   ]
  },
  {
   "cell_type": "code",
   "execution_count": 154,
   "metadata": {
    "collapsed": true
   },
   "outputs": [],
   "source": [
    "###############################################\n",
    "#######decision tree###########################\n",
    "###############################################"
   ]
  },
  {
   "cell_type": "code",
   "execution_count": 227,
   "metadata": {
    "collapsed": false
   },
   "outputs": [],
   "source": [
    "class Node:\n",
    "    parent_node = None\n",
    "    parent_value = None\n",
    "    node_name = None\n",
    "    attr_list = None\n",
    "    def _init_(self, parent_node:str, node_value:int, node_name:str, attr_list:list):\n",
    "        self.parent_node = parent_node #parent node\n",
    "        self.node_value = node_value #current node value in discrete\n",
    "        self.attr_list = attr_list #current available attributes to be put into children node\n",
    "        self.node_name = node_name #current node name"
   ]
  },
  {
   "cell_type": "code",
   "execution_count": 228,
   "metadata": {
    "collapsed": false
   },
   "outputs": [],
   "source": [
    "class DecisionTree:\n",
    "    children = []\n",
    "    \n",
    "    def _init_(self, data, target:str, node):\n",
    "        self.data = data\n",
    "        self.target = target\n",
    "        self.node = Node()\n",
    "\n",
    "        #self.node.node_name = MaxGainAttribute(data, target)\n",
    "    \n",
    "    def grow_tree(self, data, target:str, node = Node()):        \n",
    "        #pick the best performed attributs and put it into current examing node\n",
    "        node.node_name = MaxGainAttribute(data, target)\n",
    "        print(node.node_name)\n",
    "        node.value = data[node.node_name].unique()\n",
    "        \n",
    "        temp = data.drop(node.node_name, axis = 1)\n",
    "        for v in node.value:\n",
    "            idx = data.index[data[node.node_name] == v].tolist()\n",
    "            child_data = temp.iloc[idx,:]\n",
    "            node.node_name = MaxGainAttribute(data, target)\n",
    "            \n",
    "        \n",
    "        \n",
    "        \n",
    "        \n",
    "        \n",
    "        \n",
    "        \n",
    "        \n",
    "        \n",
    "        \n",
    "        \n",
    "        \n",
    "        \n",
    "        \n",
    "        \n",
    "        "
   ]
  }
 ],
 "metadata": {
  "kernelspec": {
   "display_name": "Python 3",
   "language": "python",
   "name": "python3"
  },
  "language_info": {
   "codemirror_mode": {
    "name": "ipython",
    "version": 3
   },
   "file_extension": ".py",
   "mimetype": "text/x-python",
   "name": "python",
   "nbconvert_exporter": "python",
   "pygments_lexer": "ipython3",
   "version": "3.4.5"
  }
 },
 "nbformat": 4,
 "nbformat_minor": 2
}
